{
  "nbformat": 4,
  "nbformat_minor": 0,
  "metadata": {
    "colab": {
      "provenance": [],
      "authorship_tag": "ABX9TyOnkcc6M6s2k2sdDeFYZqme",
      "include_colab_link": true
    },
    "kernelspec": {
      "name": "python3",
      "display_name": "Python 3"
    },
    "language_info": {
      "name": "python"
    }
  },
  "cells": [
    {
      "cell_type": "markdown",
      "metadata": {
        "id": "view-in-github",
        "colab_type": "text"
      },
      "source": [
        "<a href=\"https://colab.research.google.com/github/Marwaway/My-AI-Journey-/blob/main/MRI%20normalizion.ipynb\" target=\"_parent\"><img src=\"https://colab.research.google.com/assets/colab-badge.svg\" alt=\"Open In Colab\"/></a>"
      ]
    },
    {
      "cell_type": "code",
      "execution_count": 4,
      "metadata": {
        "colab": {
          "base_uri": "https://localhost:8080/",
          "height": 324
        },
        "id": "Z9Nv1PRrfHqI",
        "outputId": "7bc98582-de46-4ab7-a727-c52156904014"
      },
      "outputs": [
        {
          "output_type": "stream",
          "name": "stdout",
          "text": [
            "Original MRI scan intensities:\n",
            " [[56.   0.   4.  68. ]\n",
            " [ 1.  10.  52.   8. ]\n",
            " [ 1.  33.  99.   0.9]]\n",
            "\n",
            "Column sums (total biomarkers):\n",
            " [ 58.   43.  155.   76.9]\n",
            "\n",
            "Normalized percentages:\n",
            " [[96.55172414  0.          2.58064516 88.42652796]\n",
            " [ 1.72413793 23.25581395 33.5483871  10.40312094]\n",
            " [ 1.72413793 76.74418605 63.87096774  1.17035111]]\n",
            "Normalized MRI Data:\n",
            " [[96.55172414  0.          2.58064516 88.42652796]\n",
            " [ 1.72413793 23.25581395 33.5483871  10.40312094]\n",
            " [ 1.72413793 76.74418605 63.87096774  1.17035111]]\n"
          ]
        },
        {
          "output_type": "display_data",
          "data": {
            "text/plain": [
              "<IPython.core.display.Javascript object>"
            ],
            "application/javascript": [
              "\n",
              "    async function download(id, filename, size) {\n",
              "      if (!google.colab.kernel.accessAllowed) {\n",
              "        return;\n",
              "      }\n",
              "      const div = document.createElement('div');\n",
              "      const label = document.createElement('label');\n",
              "      label.textContent = `Downloading \"${filename}\": `;\n",
              "      div.appendChild(label);\n",
              "      const progress = document.createElement('progress');\n",
              "      progress.max = size;\n",
              "      div.appendChild(progress);\n",
              "      document.body.appendChild(div);\n",
              "\n",
              "      const buffers = [];\n",
              "      let downloaded = 0;\n",
              "\n",
              "      const channel = await google.colab.kernel.comms.open(id);\n",
              "      // Send a message to notify the kernel that we're ready.\n",
              "      channel.send({})\n",
              "\n",
              "      for await (const message of channel.messages) {\n",
              "        // Send a message to notify the kernel that we're ready.\n",
              "        channel.send({})\n",
              "        if (message.buffers) {\n",
              "          for (const buffer of message.buffers) {\n",
              "            buffers.push(buffer);\n",
              "            downloaded += buffer.byteLength;\n",
              "            progress.value = downloaded;\n",
              "          }\n",
              "        }\n",
              "      }\n",
              "      const blob = new Blob(buffers, {type: 'application/binary'});\n",
              "      const a = document.createElement('a');\n",
              "      a.href = window.URL.createObjectURL(blob);\n",
              "      a.download = filename;\n",
              "      div.appendChild(a);\n",
              "      a.click();\n",
              "      div.remove();\n",
              "    }\n",
              "  "
            ]
          },
          "metadata": {}
        },
        {
          "output_type": "display_data",
          "data": {
            "text/plain": [
              "<IPython.core.display.Javascript object>"
            ],
            "application/javascript": [
              "download(\"download_5479f242-1466-4a87-9b61-cec5baa02404\", \"mri_results.txt\", 67)"
            ]
          },
          "metadata": {}
        }
      ],
      "source": [
        "import numpy as np\n",
        "# example of broadcasting\n",
        "# mimics how data is normalized on medical AI\n",
        "\n",
        "# MRI scan data (3 patients, 4 biomarkers)\n",
        "A = np.array([[56, 0, 4, 68],\n",
        "              [1, 10, 52, 8],\n",
        "              [1, 33, 99, 0.9]])\n",
        "print(\"Original MRI scan intensities:\\n\", A)\n",
        "\n",
        "\n",
        "calc = A.sum(axis=0)\n",
        "print(\"\\nColumn sums (total biomarkers):\\n\", calc)\n",
        "\n",
        "\n",
        "# Calculate percentages\n",
        "# we reshape to avoid rank 1 array they are missed up\n",
        "percentages = 100 * A / A.sum(axis=0).reshape(1, 4)\n",
        "print(\"\\nNormalized percentages:\\n\", percentages)\n",
        "\n",
        "\n",
        "# Show results\n",
        "print(\"Normalized MRI Data:\\n\", percentages)\n",
        "\n",
        "# Download the file on phone\n",
        "from google.colab import files\n",
        "np.savetxt(\"mri_results.txt\", percentages, fmt=\"%.2f\")\n",
        "files.download(\"mri_results.txt\")"
      ]
    }
  ]
}