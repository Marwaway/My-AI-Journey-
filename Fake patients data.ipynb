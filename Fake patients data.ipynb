{
  "nbformat": 4,
  "nbformat_minor": 0,
  "metadata": {
    "colab": {
      "provenance": [],
      "authorship_tag": "ABX9TyOiaxP5BarGSsfc1RJHjU/1",
      "include_colab_link": true
    },
    "kernelspec": {
      "name": "python3",
      "display_name": "Python 3"
    },
    "language_info": {
      "name": "python"
    }
  },
  "cells": [
    {
      "cell_type": "markdown",
      "metadata": {
        "id": "view-in-github",
        "colab_type": "text"
      },
      "source": [
        "<a href=\"https://colab.research.google.com/github/Marwaway/My-AI-Journey-/blob/main/Fake%20patients%20data.ipynb\" target=\"_parent\"><img src=\"https://colab.research.google.com/assets/colab-badge.svg\" alt=\"Open In Colab\"/></a>"
      ]
    },
    {
      "cell_type": "code",
      "execution_count": 1,
      "metadata": {
        "colab": {
          "base_uri": "https://localhost:8080/"
        },
        "id": "lCx6V8X3RGvA",
        "outputId": "2a25be8a-c0c2-4324-e22e-ba17c17a1cb7"
      },
      "outputs": [
        {
          "output_type": "stream",
          "name": "stdout",
          "text": [
            "Patient data saved to patient_data.py\n",
            "\n",
            "Example patient data access:\n",
            "First patient name: John Smith\n",
            "Third patient diagnosis: Coronary Artery Disease\n",
            "Fifth patient medications: Tiotropium, Salbutamol, Prednisone\n"
          ]
        }
      ],
      "source": [
        "# Fake patient data generator\n",
        "patients = [\n",
        "    {\n",
        "        \"patient_id\": 1,\n",
        "        \"name\": \"John Smith\",\n",
        "        \"age\": 45,\n",
        "        \"gender\": \"Male\",\n",
        "        \"diagnosis\": \"Hypertension\",\n",
        "        \"admission_date\": \"2023-05-15\",\n",
        "        \"discharge_date\": \"2023-05-20\",\n",
        "        \"medications\": [\"Lisinopril\", \"Hydrochlorothiazide\"]\n",
        "    },\n",
        "    {\n",
        "        \"patient_id\": 2,\n",
        "        \"name\": \"Emily Johnson\",\n",
        "        \"age\": 32,\n",
        "        \"gender\": \"Female\",\n",
        "        \"diagnosis\": \"Type 2 Diabetes\",\n",
        "        \"admission_date\": \"2023-06-10\",\n",
        "        \"discharge_date\": \"2023-06-15\",\n",
        "        \"medications\": [\"Metformin\", \"Insulin glargine\"]\n",
        "    },\n",
        "    {\n",
        "        \"patient_id\": 3,\n",
        "        \"name\": \"Michael Brown\",\n",
        "        \"age\": 58,\n",
        "        \"gender\": \"Male\",\n",
        "        \"diagnosis\": \"Coronary Artery Disease\",\n",
        "        \"admission_date\": \"2023-07-05\",\n",
        "        \"discharge_date\": \"2023-07-12\",\n",
        "        \"medications\": [\"Atorvastatin\", \"Metoprolol\", \"Aspirin\"]\n",
        "    },\n",
        "    {\n",
        "        \"patient_id\": 4,\n",
        "        \"name\": \"Sarah Williams\",\n",
        "        \"age\": 28,\n",
        "        \"gender\": \"Female\",\n",
        "        \"diagnosis\": \"Asthma\",\n",
        "        \"admission_date\": \"2023-08-20\",\n",
        "        \"discharge_date\": \"2023-08-22\",\n",
        "        \"medications\": [\"Albuterol\", \"Fluticasone\"]\n",
        "    },\n",
        "    {\n",
        "        \"patient_id\": 5,\n",
        "        \"name\": \"David Lee\",\n",
        "        \"age\": 65,\n",
        "        \"gender\": \"Male\",\n",
        "        \"diagnosis\": \"COPD\",\n",
        "        \"admission_date\": \"2023-09-01\",\n",
        "        \"discharge_date\": \"2023-09-10\",\n",
        "        \"medications\": [\"Tiotropium\", \"Salbutamol\", \"Prednisone\"]\n",
        "    }\n",
        "]\n",
        "\n",
        "# Function to save data to a file\n",
        "def save_patient_data(data, filename=\"patient_data.py\"):\n",
        "    with open(filename, 'w') as file:\n",
        "        file.write(\"patients = [\\n\")\n",
        "        for patient in data:\n",
        "            file.write(\"    {\\n\")\n",
        "            for key, value in patient.items():\n",
        "                if isinstance(value, str):\n",
        "                    file.write(f'        \"{key}\": \"{value}\",\\n')\n",
        "                elif isinstance(value, list):\n",
        "                    file.write(f'        \"{key}\": {value},\\n')\n",
        "                else:\n",
        "                    file.write(f'        \"{key}\": {value},\\n')\n",
        "            file.write(\"    },\\n\")\n",
        "        file.write(\"]\\n\")\n",
        "    print(f\"Patient data saved to {filename}\")\n",
        "\n",
        "# Save the data\n",
        "save_patient_data(patients)\n",
        "\n",
        "# Example of how to access the data\n",
        "print(\"\\nExample patient data access:\")\n",
        "print(f\"First patient name: {patients[0]['name']}\")\n",
        "print(f\"Third patient diagnosis: {patients[2]['diagnosis']}\")\n",
        "print(f\"Fifth patient medications: {', '.join(patients[4]['medications'])}\")"
      ]
    }
  ]
}