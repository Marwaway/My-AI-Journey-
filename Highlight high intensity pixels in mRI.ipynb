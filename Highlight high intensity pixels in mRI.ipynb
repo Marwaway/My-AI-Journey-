{
  "nbformat": 4,
  "nbformat_minor": 0,
  "metadata": {
    "colab": {
      "provenance": [],
      "authorship_tag": "ABX9TyM0+bXOAsjghG+zqIEEcJFD",
      "include_colab_link": true
    },
    "kernelspec": {
      "name": "python3",
      "display_name": "Python 3"
    },
    "language_info": {
      "name": "python"
    }
  },
  "cells": [
    {
      "cell_type": "markdown",
      "metadata": {
        "id": "view-in-github",
        "colab_type": "text"
      },
      "source": [
        "<a href=\"https://colab.research.google.com/github/Marwaway/My-AI-Journey-/blob/main/Highlight%20high%20intensity%20pixels%20in%20mRI.ipynb\" target=\"_parent\"><img src=\"https://colab.research.google.com/assets/colab-badge.svg\" alt=\"Open In Colab\"/></a>"
      ]
    },
    {
      "cell_type": "code",
      "execution_count": 1,
      "metadata": {
        "colab": {
          "base_uri": "https://localhost:8080/"
        },
        "id": "a5S9XZz4whaq",
        "outputId": "8653541e-f258-49b7-e35f-49bc4a16ab33"
      },
      "outputs": [
        {
          "output_type": "stream",
          "name": "stdout",
          "text": [
            "Simple thresholding results:\n",
            ". . X . . \n",
            ". . X X . \n",
            ". X . . . \n",
            ". . . . . \n",
            ". . . . . \n",
            "\n",
            "Logistic regression results:\n",
            ". . X . . \n",
            ". X X X . \n",
            ". X . X . \n",
            ". . X . . \n",
            ". . . . . \n"
          ]
        }
      ],
      "source": [
        "import numpy as np\n",
        "\n",
        "# Sample 5x5 MRI image (values 0-1 where 1 is brightest)\n",
        "mri_image = np.array([\n",
        "    [0.1, 0.2, 0.8, 0.1, 0.1],\n",
        "    [0.2, 0.7, 0.9, 0.8, 0.2],\n",
        "    [0.1, 0.8, 0.3, 0.7, 0.1],\n",
        "    [0.1, 0.2, 0.7, 0.2, 0.1],\n",
        "    [0.1, 0.1, 0.1, 0.1, 0.1]\n",
        "])\n",
        "\n",
        "\n",
        "print(\"Simple thresholding results:\")\n",
        "threshold = 0.7  # Anything brighter than this is \"high intensity\"\n",
        "for row in mri_image:\n",
        "    for pixel in row:\n",
        "        if pixel > threshold:\n",
        "            print(\"X\", end=\" \")  # Flag high intensity\n",
        "        else:\n",
        "            print(\".\", end=\" \")  # Normal pixel\n",
        "    print()\n",
        "\n",
        "# 2. Simple logistic regression concept\n",
        "# In practice you'd need training data, but here's the idea:\n",
        "def logistic_predict(pixel_value):\n",
        "    \"\"\"Mock logistic regression prediction\"\"\"\n",
        "    # Normally these weights come from training data\n",
        "    # Let's say our \"trained model\" thinks values > 0.6 are likely high intensity\n",
        "    weighted_sum = -10 + 15 * pixel_value  # Made-up weights\n",
        "    probability = 1 / (1 + np.exp(-weighted_sum))  # Sigmoid function\n",
        "    return probability > 0.5  # Decision boundary\n",
        "\n",
        "print(\"\\nLogistic regression results:\")\n",
        "for row in mri_image:\n",
        "    for pixel in row:\n",
        "        if logistic_predict(pixel):\n",
        "            print(\"X\", end=\" \")\n",
        "        else:\n",
        "            print(\".\", end=\" \")\n",
        "    print()"
      ]
    }
  ]
}